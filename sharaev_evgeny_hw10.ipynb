{
 "cells": [
  {
   "cell_type": "markdown",
   "id": "63fb8916",
   "metadata": {},
   "source": [
    "### Домашнее задание 10\n",
    "#### Этап 1\n",
    "Скачайте файл с набором данных событий информационной безопасности в\n",
    "формате JSON (ссылка на файл).\n",
    "Важно: можно сгенерировать данные самостоятельно или использовать\n",
    "предоставленные."
   ]
  },
  {
   "cell_type": "code",
   "execution_count": 1,
   "id": "3b48b4e6",
   "metadata": {},
   "outputs": [
    {
     "name": "stdout",
     "output_type": "stream",
     "text": [
      "ls: cannot access 'events.json.txt': No such file or directory\r\n"
     ]
    }
   ],
   "source": [
    "ls -l events.json.txt"
   ]
  },
  {
   "cell_type": "markdown",
   "id": "479d9f70",
   "metadata": {},
   "source": [
    "#### Этап 2\n",
    "Загрузите данные из файла JSON в DataFrame с помощью pandas и\n",
    "проанализируйте их. Вы должны изучить распределение событий\n",
    "информационной безопасности по их типам (по полю «signature»)"
   ]
  },
  {
   "cell_type": "code",
   "execution_count": 2,
   "id": "a0d41129",
   "metadata": {},
   "outputs": [
    {
     "data": {
      "text/html": [
       "<div>\n",
       "<style scoped>\n",
       "    .dataframe tbody tr th:only-of-type {\n",
       "        vertical-align: middle;\n",
       "    }\n",
       "\n",
       "    .dataframe tbody tr th {\n",
       "        vertical-align: top;\n",
       "    }\n",
       "\n",
       "    .dataframe thead th {\n",
       "        text-align: right;\n",
       "    }\n",
       "</style>\n",
       "<table border=\"1\" class=\"dataframe\">\n",
       "  <thead>\n",
       "    <tr style=\"text-align: right;\">\n",
       "      <th></th>\n",
       "      <th>timestamp</th>\n",
       "      <th>signature</th>\n",
       "    </tr>\n",
       "  </thead>\n",
       "  <tbody>\n",
       "    <tr>\n",
       "      <th>0</th>\n",
       "      <td>2023-08-21T08:00:00</td>\n",
       "      <td>MALWARE-CNC Win.Trojan.Jadtre variant outbound...</td>\n",
       "    </tr>\n",
       "    <tr>\n",
       "      <th>1</th>\n",
       "      <td>2023-08-21T09:00:00</td>\n",
       "      <td>EXPLOIT Remote Windows Win32k elevation of pri...</td>\n",
       "    </tr>\n",
       "    <tr>\n",
       "      <th>2</th>\n",
       "      <td>2023-08-21T10:00:00</td>\n",
       "      <td>EXPLOIT Java JRE to Oracle WebLogic RCE</td>\n",
       "    </tr>\n",
       "    <tr>\n",
       "      <th>3</th>\n",
       "      <td>2023-08-21T11:00:00</td>\n",
       "      <td>NETBIOS DCERPC NCACN-IP-TCP interfaces BO</td>\n",
       "    </tr>\n",
       "    <tr>\n",
       "      <th>4</th>\n",
       "      <td>2023-08-21T12:00:00</td>\n",
       "      <td>MALWARE-CNC User-Agent known malicious connect...</td>\n",
       "    </tr>\n",
       "    <tr>\n",
       "      <th>...</th>\n",
       "      <td>...</td>\n",
       "      <td>...</td>\n",
       "    </tr>\n",
       "    <tr>\n",
       "      <th>95</th>\n",
       "      <td>2023-08-25T07:00:00</td>\n",
       "      <td>INDICATOR-COMPROMISE Suspicious inbound to myS...</td>\n",
       "    </tr>\n",
       "    <tr>\n",
       "      <th>96</th>\n",
       "      <td>2023-08-25T08:00:00</td>\n",
       "      <td>EXPLOIT Multiple IIS 6.0 attempt</td>\n",
       "    </tr>\n",
       "    <tr>\n",
       "      <th>97</th>\n",
       "      <td>2023-08-25T09:00:00</td>\n",
       "      <td>EXPLOIT Oracle 9i TNS Listener BO</td>\n",
       "    </tr>\n",
       "    <tr>\n",
       "      <th>98</th>\n",
       "      <td>2023-08-25T10:00:00</td>\n",
       "      <td>NETBIOS SMB-DS srvsvc NetrPathCanonicalize BO</td>\n",
       "    </tr>\n",
       "    <tr>\n",
       "      <th>99</th>\n",
       "      <td>2023-08-25T11:00:00</td>\n",
       "      <td>MALWARE-CNC Win.Trojan.Jadtre variant outbound...</td>\n",
       "    </tr>\n",
       "  </tbody>\n",
       "</table>\n",
       "<p>100 rows × 2 columns</p>\n",
       "</div>"
      ],
      "text/plain": [
       "              timestamp                                          signature\n",
       "0   2023-08-21T08:00:00  MALWARE-CNC Win.Trojan.Jadtre variant outbound...\n",
       "1   2023-08-21T09:00:00  EXPLOIT Remote Windows Win32k elevation of pri...\n",
       "2   2023-08-21T10:00:00            EXPLOIT Java JRE to Oracle WebLogic RCE\n",
       "3   2023-08-21T11:00:00          NETBIOS DCERPC NCACN-IP-TCP interfaces BO\n",
       "4   2023-08-21T12:00:00  MALWARE-CNC User-Agent known malicious connect...\n",
       "..                  ...                                                ...\n",
       "95  2023-08-25T07:00:00  INDICATOR-COMPROMISE Suspicious inbound to myS...\n",
       "96  2023-08-25T08:00:00                   EXPLOIT Multiple IIS 6.0 attempt\n",
       "97  2023-08-25T09:00:00                  EXPLOIT Oracle 9i TNS Listener BO\n",
       "98  2023-08-25T10:00:00      NETBIOS SMB-DS srvsvc NetrPathCanonicalize BO\n",
       "99  2023-08-25T11:00:00  MALWARE-CNC Win.Trojan.Jadtre variant outbound...\n",
       "\n",
       "[100 rows x 2 columns]"
      ]
     },
     "execution_count": 2,
     "metadata": {},
     "output_type": "execute_result"
    }
   ],
   "source": [
    "import pandas as pd\n",
    "\n",
    "\n",
    "data = pd.read_json('events.json')\n",
    "df = pd.DataFrame.from_records(data.events)\n",
    "df"
   ]
  },
  {
   "cell_type": "code",
   "execution_count": 3,
   "id": "258044cb",
   "metadata": {},
   "outputs": [
    {
     "data": {
      "text/plain": [
       "signature\n",
       "MALWARE-CNC Win.Trojan.Jadtre variant outbound connection       12\n",
       "EXPLOIT Remote Windows Win32k elevation of privilege attempt    11\n",
       "EXPLOIT Java JRE to Oracle WebLogic RCE                         11\n",
       "NETBIOS DCERPC NCACN-IP-TCP interfaces BO                       11\n",
       "MALWARE-CNC User-Agent known malicious connecting IP            11\n",
       "INDICATOR-COMPROMISE Suspicious inbound to mySQL port 3306      11\n",
       "EXPLOIT Multiple IIS 6.0 attempt                                11\n",
       "EXPLOIT Oracle 9i TNS Listener BO                               11\n",
       "NETBIOS SMB-DS srvsvc NetrPathCanonicalize BO                   11\n",
       "Name: count, dtype: int64"
      ]
     },
     "execution_count": 3,
     "metadata": {},
     "output_type": "execute_result"
    }
   ],
   "source": [
    "df = df['signature'].value_counts()\n",
    "df"
   ]
  },
  {
   "cell_type": "markdown",
   "id": "0a28c253",
   "metadata": {},
   "source": [
    "#### Этап 3. Визуализация данных\n",
    "Постройте график распределения типов событий информационной\n",
    "безопасности. Используйте seaborn или matplotlib для создания визуализации"
   ]
  },
  {
   "cell_type": "code",
   "execution_count": 4,
   "id": "7f705b8d",
   "metadata": {},
   "outputs": [
    {
     "name": "stderr",
     "output_type": "stream",
     "text": [
      "/usr/lib/python3/dist-packages/scipy/__init__.py:146: UserWarning: A NumPy version >=1.17.3 and <1.25.0 is required for this version of SciPy (detected version 1.26.4\n",
      "  warnings.warn(f\"A NumPy version >={np_minversion} and <{np_maxversion}\"\n"
     ]
    },
    {
     "data": {
      "text/plain": [
       "<AxesSubplot:xlabel='signature', ylabel='count'>"
      ]
     },
     "execution_count": 4,
     "metadata": {},
     "output_type": "execute_result"
    },
    {
     "data": {
      "image/png": "[encoded data removed]",
      "text/plain": [
       "<Figure size 432x288 with 1 Axes>"
      ]
     },
     "metadata": {
      "needs_background": "light"
     },
     "output_type": "display_data"
    }
   ],
   "source": [
    "import seaborn as sns\n",
    "\n",
    "\n",
    "sns.barplot(data=df)"
   ]
  },
  {
   "cell_type": "code",
   "execution_count": null,
   "id": "7529af32",
   "metadata": {},
   "outputs": [],
   "source": []
  }
 ],
 "metadata": {
  "kernelspec": {
   "display_name": "Python 3 (ipykernel)",
   "language": "python",
   "name": "python3"
  },
  "language_info": {
   "codemirror_mode": {
    "name": "ipython",
    "version": 3
   },
   "file_extension": ".py",
   "mimetype": "text/x-python",
   "name": "python",
   "nbconvert_exporter": "python",
   "pygments_lexer": "ipython3",
   "version": "3.10.12"
  }
 },
 "nbformat": 4,
 "nbformat_minor": 5
}
