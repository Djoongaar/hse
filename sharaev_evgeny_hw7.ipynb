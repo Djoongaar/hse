{
 "cells": [
  {
   "cell_type": "markdown",
   "id": "63fb8916",
   "metadata": {},
   "source": [
    "### Домашнее задание 7\n",
    "#### Задание 1\n",
    "Напишите функцию, которая принимает на вход строку и проверяет, является ли\n",
    "она валидным транспортным номером (1 буква, 3 цифры, 2 буквы, 2–3 цифры).\n",
    "Обратите внимание, что не все буквы кириллического алфавита используются в\n",
    "транспортных номерах.\n",
    "Если номер валиден, то функция должна возвращать отдельно номер и регион.\n",
    "Примеры работы программы:\n",
    "car_id = 'А222BС96'\n",
    "Результат: Номер А222BС валиден. Регион: 96.\n",
    "car_id = 'АБ22ВВ193'\n",
    "Результат: Номер не валиден."
   ]
  },
  {
   "cell_type": "code",
   "execution_count": 1,
   "id": "251db6b3",
   "metadata": {},
   "outputs": [],
   "source": [
    "import re\n",
    "\n",
    "\n",
    "def check_car_license(raw_license: str) -> bool:\n",
    "    \"\"\"\n",
    "    Function preprocesses raw string with Russian car license and check whether it matches the pattern\n",
    "    \"\"\"\n",
    "    car_license = re.sub(r'\\s+', '', raw_license.strip().upper())\n",
    "    pattern = re.compile('^[АВЕКМНОРСТУХ]\\d{3}[АВЕКМНОРСТУХ]{2}\\d{2,3}$')\n",
    "    match = pattern.match(car_license)\n",
    "\n",
    "    return True if match else False\n",
    "\n",
    "def test_check_car_license():\n",
    "    test_cases = [\n",
    "        ['А111АА77', True],\n",
    "        ['А001КК123', True],\n",
    "        ['А007МР99', True],\n",
    "        ['А 007 МР199', True],\n",
    "        ['А 007 МД 999', False],\n",
    "        ['АF007МР199', False],\n",
    "        ['А 000 МР 444', True]\n",
    "    ]\n",
    "    for case in test_cases:\n",
    "        assert check_car_license(case[0]) == case[1]\n",
    "\n",
    "test_check_car_license()"
   ]
  },
  {
   "cell_type": "markdown",
   "id": "56bb10f6",
   "metadata": {},
   "source": [
    "#### Задание 2\n",
    "Напишите функцию, которая будет удалять все последовательные повторы слов\n",
    "из заданной строки при помощи регулярных выражений.\n",
    "Пример работы программы:\n",
    "some_string = 'Напишите функцию функцию, которая будет будет будет будет\n",
    "удалять все все все все последовательные повторы слов из из из из заданной\n",
    "строки строки при помощи регулярных выражений'\n",
    "Результат: Напишите функцию, которая будет удалять все последовательные\n",
    "повторы слов из заданной строки при помощи регулярных выражений."
   ]
  },
  {
   "cell_type": "code",
   "execution_count": 2,
   "id": "9880c105",
   "metadata": {},
   "outputs": [],
   "source": [
    "def remove_replicate_words(raw_text: str) -> str:\n",
    "    \"\"\"\n",
    "    Function removes replicate words from atring and returns preprocessed text\n",
    "    \"\"\"\n",
    "    return re.sub(r'\\b(\\w+)( \\1\\b)+', r'\\1', raw_text)"
   ]
  },
  {
   "cell_type": "code",
   "execution_count": 3,
   "id": "06f497af",
   "metadata": {},
   "outputs": [
    {
     "data": {
      "text/plain": [
       "'Напишите функцию, которая будет удалять все последовательные повторы слов из заданной строки при помощи регулярных выражений'"
      ]
     },
     "execution_count": 3,
     "metadata": {},
     "output_type": "execute_result"
    }
   ],
   "source": [
    "remove_replicate_words('Напишите функцию функцию, которая будет будет будет будет удалять все все все все последовательные повторы слов из из из из заданной строки строки при помощи регулярных выражений')"
   ]
  }
 ],
 "metadata": {
  "kernelspec": {
   "display_name": "Python 3 (ipykernel)",
   "language": "python",
   "name": "python3"
  },
  "language_info": {
   "codemirror_mode": {
    "name": "ipython",
    "version": 3
   },
   "file_extension": ".py",
   "mimetype": "text/x-python",
   "name": "python",
   "nbconvert_exporter": "python",
   "pygments_lexer": "ipython3",
   "version": "3.10.12"
  }
 },
 "nbformat": 4,
 "nbformat_minor": 5
}
