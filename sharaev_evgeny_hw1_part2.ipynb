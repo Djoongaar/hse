{
 "cells": [
  {
   "cell_type": "markdown",
   "id": "7d3c33a3",
   "metadata": {},
   "source": [
    "### Домашнее задание 1 часть 2\n",
    "#### Задание 1\n",
    "\n",
    "Написать код на Python  в среде Jupyter Notebook  для решения следующей задачи.\n",
    "\n",
    "Дана переменная, в которой хранится словарь, содержащий гео-метки для каждого пользователя (пример структуры данных приведен ниже). Вам необходимо написать программу, которая выведет на экран множество уникальных гео-меток всех пользователей.\n",
    "\n",
    "Пример работы программы:\n",
    "\n",
    "ids = {'user1': [213, 213, 213, 15, 213], \n",
    "       'user2': [54, 54, 119, 119, 119], \n",
    "       'user3': [213, 98, 98, 35]}\n",
    "Результат: {98, 35, 15, 213, 54, 119}"
   ]
  },
  {
   "cell_type": "code",
   "execution_count": 1,
   "id": "0513af05",
   "metadata": {},
   "outputs": [],
   "source": [
    "# Определяем переменные\n",
    "\n",
    "ids = {'user1': [213, 213, 213, 15, 213], 'user2': [54, 54, 119, 119, 119], 'user3': [213, 98, 98, 35]} "
   ]
  },
  {
   "cell_type": "code",
   "execution_count": 2,
   "id": "a59b44e0",
   "metadata": {},
   "outputs": [],
   "source": [
    "def get_unique_geotags(data: dict) -> set[int]:\n",
    "    all_tags = []\n",
    "    for user, tags in ids.items():\n",
    "        try:\n",
    "            all_tags.extend(tags)\n",
    "        except TypeError:\n",
    "            print('Object {tags} is not iterable')\n",
    "    return set(all_tags)"
   ]
  },
  {
   "cell_type": "code",
   "execution_count": 3,
   "id": "c1dd2d72",
   "metadata": {},
   "outputs": [
    {
     "data": {
      "text/plain": [
       "{15, 35, 54, 98, 119, 213}"
      ]
     },
     "execution_count": 3,
     "metadata": {},
     "output_type": "execute_result"
    }
   ],
   "source": [
    "get_unique_geotags(ids)"
   ]
  },
  {
   "cell_type": "markdown",
   "id": "0d00ee37",
   "metadata": {},
   "source": [
    "#### Задание 2 (не обязательное)\n",
    "Написать код на Python  в среде Jupyter Notebook  для решения следующей задачи.\n",
    "\n",
    "Дана переменная, в которой хранится список поисковых запросов пользователя (пример структуры данных приведен ниже). Вам необходимо написать программу, которая выведет на экран распределение количества слов в запросах в требуемом виде.\n",
    "\n",
    "Пример работы программы:\n",
    "\n",
    "queries = [\n",
    "    'смотреть сериалы онлайн',\n",
    "    'новости спорта',\n",
    "    'афиша кино',\n",
    "    'курс доллара',\n",
    "    'сериалы этим летом',\n",
    "    'курс по питону',\n",
    "    'сериалы про спорт',\n",
    "]\n",
    "Результат:\n",
    "\n",
    "Поисковых запросов, содержащих 2 слов(а): 42.86%\n",
    "Поисковых запросов, содержащих 3 слов(а): 57.14%\n"
   ]
  },
  {
   "cell_type": "code",
   "execution_count": 4,
   "id": "46859c7f",
   "metadata": {},
   "outputs": [],
   "source": [
    "# Определяем переменную\n",
    "\n",
    "queries = [ 'смотреть сериалы онлайн', 'новости спорта', 'афиша кино', 'курс доллара', 'сериалы этим летом', 'курс по питону', 'сериалы про спорт', ]"
   ]
  },
  {
   "cell_type": "code",
   "execution_count": 5,
   "id": "2ec32cbd",
   "metadata": {},
   "outputs": [],
   "source": [
    "def get_stat(data: list[str]) -> dict[int, int]:\n",
    "    stat = {}\n",
    "    for query in queries:\n",
    "        query = query.strip()\n",
    "        query_length = len(query.split(' '))\n",
    "        count = 1 \n",
    "        if stat.get(query_length):\n",
    "            count += stat.get(query_length)\n",
    "        stat[query_length] = count\n",
    "    return stat"
   ]
  },
  {
   "cell_type": "code",
   "execution_count": 6,
   "id": "7ad8a075",
   "metadata": {},
   "outputs": [],
   "source": [
    "def explain_stat(data: dict[int: int]) -> str:\n",
    "    result = ''\n",
    "    total_words = sum(data.values())\n",
    "    for key, value in data.items():\n",
    "        result = result + f'Поисковых запросов, содержащих {key} слов(а): {round(value * 100 / total_words, 2)}% '\n",
    "    return result"
   ]
  },
  {
   "cell_type": "code",
   "execution_count": 7,
   "id": "cf8d6246",
   "metadata": {},
   "outputs": [
    {
     "data": {
      "text/plain": [
       "'Поисковых запросов, содержащих 3 слов(а): 57.14% Поисковых запросов, содержащих 2 слов(а): 42.86% '"
      ]
     },
     "execution_count": 7,
     "metadata": {},
     "output_type": "execute_result"
    }
   ],
   "source": [
    "explain_stat(get_stat(queries))"
   ]
  }
 ],
 "metadata": {
  "kernelspec": {
   "display_name": "Python 3 (ipykernel)",
   "language": "python",
   "name": "python3"
  },
  "language_info": {
   "codemirror_mode": {
    "name": "ipython",
    "version": 3
   },
   "file_extension": ".py",
   "mimetype": "text/x-python",
   "name": "python",
   "nbconvert_exporter": "python",
   "pygments_lexer": "ipython3",
   "version": "3.10.12"
  }
 },
 "nbformat": 4,
 "nbformat_minor": 5
}
