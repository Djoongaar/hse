{
 "cells": [
  {
   "cell_type": "markdown",
   "id": "d9ab8786",
   "metadata": {},
   "source": [
    "### Домашнее задание 1\n",
    "#### Задание 1\n",
    "\n",
    "Написать код на Python в среде Jupyter Notebook для решения следующей задачи.\n",
    "\n",
    "Дана переменная, в которой хранится слово из латинских букв. Напишите код, который выводит на экран:\n",
    "* среднюю букву, если число букв в слове нечётное;\n",
    "* две средних буквы, если число букв чётное.\n",
    "\n",
    "Пример работы программы:\n",
    "\n",
    "1. word = 'test' Результат: es \n",
    "2. word = 'testing' Результат: t"
   ]
  },
  {
   "cell_type": "code",
   "execution_count": 1,
   "id": "ef9711a2",
   "metadata": {},
   "outputs": [],
   "source": [
    "# Определим переменную 1\n",
    "word = 'test'"
   ]
  },
  {
   "cell_type": "code",
   "execution_count": 2,
   "id": "7df905d9",
   "metadata": {},
   "outputs": [],
   "source": [
    "def dummy(word: str) -> str:\n",
    "    word_length = len(word)\n",
    "    ind = word_length // 2\n",
    "    if word_length % 2 == 0:\n",
    "        return word[ind-1:ind+1]\n",
    "    return word[ind]"
   ]
  },
  {
   "cell_type": "code",
   "execution_count": 3,
   "id": "6c0e28a5",
   "metadata": {},
   "outputs": [
    {
     "data": {
      "text/plain": [
       "'es'"
      ]
     },
     "execution_count": 3,
     "metadata": {},
     "output_type": "execute_result"
    }
   ],
   "source": [
    "dummy(word)"
   ]
  },
  {
   "cell_type": "code",
   "execution_count": 4,
   "id": "4a1f2c0f",
   "metadata": {},
   "outputs": [
    {
     "data": {
      "text/plain": [
       "'t'"
      ]
     },
     "execution_count": 4,
     "metadata": {},
     "output_type": "execute_result"
    }
   ],
   "source": [
    "word = 'testing'\n",
    "dummy(word)"
   ]
  },
  {
   "cell_type": "markdown",
   "id": "854f4048",
   "metadata": {},
   "source": [
    "#### Задание 2\n",
    "\n",
    "Написать код на Python в среде Jupyter Notebook для решения следующей задачи.\n",
    "\n",
    "Вы делаете MVP (минимально жизнеспособный продукт) dating-сервиса.\n",
    "У вас есть список юношей и девушек.\n",
    "Выдвигаем гипотезу: лучшие рекомендации получатся, если просто отсортировать имена по алфавиту и познакомить людей с одинаковыми индексами после сортировки. Но вы не будете никого знакомить, если кто-то может остаться без пары."
   ]
  },
  {
   "cell_type": "code",
   "execution_count": 5,
   "id": "f11da2d9",
   "metadata": {},
   "outputs": [],
   "source": [
    "# Определяем переменные\n",
    "boys = ['Peter', 'Alex', 'John', 'Arthur', 'Richard'] \n",
    "girls = ['Kate', 'Liza', 'Kira', 'Emma', 'Trisha'] "
   ]
  },
  {
   "cell_type": "code",
   "execution_count": 6,
   "id": "df6fbac1",
   "metadata": {},
   "outputs": [],
   "source": [
    "from typing import List\n",
    "\n",
    "def dummy_mapping(boys: List[str], girls: List[str]) -> str:\n",
    "    result = 'Идеальные пары:\\n'\n",
    "    if len(boys) and len(boys) == len(girls):\n",
    "        boys = sorted(boys)\n",
    "        girls = sorted(girls)\n",
    "        return result + \"\\n\".join([\" и \".join(item) for item in zip(boys, girls)])\n",
    "    return 'Внимание, кто-то может остаться без пары!'"
   ]
  },
  {
   "cell_type": "code",
   "execution_count": 7,
   "id": "9abcf8be",
   "metadata": {},
   "outputs": [
    {
     "data": {
      "text/plain": [
       "'Идеальные пары: \\nAlex и Emma\\nArthur и Kate\\nJohn и Kira\\nPeter и Liza\\nRichard и Trisha'"
      ]
     },
     "execution_count": 7,
     "metadata": {},
     "output_type": "execute_result"
    }
   ],
   "source": [
    "dummy_mapping(boys, girls)"
   ]
  },
  {
   "cell_type": "code",
   "execution_count": 8,
   "id": "b76c3947",
   "metadata": {},
   "outputs": [
    {
     "data": {
      "text/plain": [
       "'Внимание, кто-то может остаться без пары!'"
      ]
     },
     "execution_count": 8,
     "metadata": {},
     "output_type": "execute_result"
    }
   ],
   "source": [
    "boys = ['Peter', 'Alex', 'John', 'Arthur', 'Richard'] \n",
    "girls = ['Kate', 'Liza', 'Kira', 'Emma']\n",
    "\n",
    "dummy_mapping(boys, girls)"
   ]
  },
  {
   "cell_type": "code",
   "execution_count": 9,
   "id": "d764cb46",
   "metadata": {},
   "outputs": [
    {
     "data": {
      "text/plain": [
       "'Внимание, кто-то может остаться без пары!'"
      ]
     },
     "execution_count": 9,
     "metadata": {},
     "output_type": "execute_result"
    }
   ],
   "source": [
    "boys = [] \n",
    "girls = []\n",
    "\n",
    "dummy_mapping(boys, girls)"
   ]
  },
  {
   "cell_type": "code",
   "execution_count": null,
   "id": "a2005c8b",
   "metadata": {},
   "outputs": [],
   "source": []
  }
 ],
 "metadata": {
  "kernelspec": {
   "display_name": "Python 3 (ipykernel)",
   "language": "python",
   "name": "python3"
  },
  "language_info": {
   "codemirror_mode": {
    "name": "ipython",
    "version": 3
   },
   "file_extension": ".py",
   "mimetype": "text/x-python",
   "name": "python",
   "nbconvert_exporter": "python",
   "pygments_lexer": "ipython3",
   "version": "3.10.12"
  }
 },
 "nbformat": 4,
 "nbformat_minor": 5
}
