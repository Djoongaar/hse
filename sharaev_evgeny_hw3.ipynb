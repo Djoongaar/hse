{
 "cells": [
  {
   "cell_type": "markdown",
   "id": "f2566e06",
   "metadata": {},
   "source": [
    "### Домашнее задание 3\n",
    "#### Задание 1\n",
    "\n",
    "Напишите код на Python для решения следующей задачи.\n",
    "Реализуйте функцию sum_distance(from, to), которая суммирует все числа от значения from до величины to включительно.\n",
    "Примечание. Если пользователь задаст первое число, которое окажется больше второго, просто поменяйте их местами."
   ]
  },
  {
   "cell_type": "code",
   "execution_count": 1,
   "id": "76bb62b5",
   "metadata": {},
   "outputs": [],
   "source": [
    "def sum_distance(begin: int, end: int) -> int:\n",
    "    \"\"\"\n",
    "    Function calculates sum of all integers inside given range\n",
    "    :param begin: beginning of range\n",
    "    :param end: end of the range\n",
    "    :return: result\n",
    "    \"\"\"\n",
    "    assert isinstance(begin, int) , \"<{}> should be integer\".format(begin)\n",
    "    assert isinstance(end, int), \"<{}> should be integer\".format(begin)\n",
    "    \n",
    "    if begin > end:\n",
    "        begin, end = end, begin\n",
    "        \n",
    "    return sum(range(begin, end+1, 1))\n",
    "\n",
    "def test_sum_distance():\n",
    "    test_sets = [\n",
    "        [3, 1, 6],\n",
    "        [7, 7, 7],\n",
    "        [1, 0, 1],\n",
    "        [0, 0, 0],\n",
    "        [-5, 0, -15],\n",
    "    ]\n",
    "    for test_set in test_sets:\n",
    "        assert sum_distance(test_set[0], test_set[1]) == sum_distance(test_set[1], test_set[0]) == test_set[2]\n",
    "    \n",
    "    \n",
    "test_sum_distance()"
   ]
  },
  {
   "cell_type": "code",
   "execution_count": 2,
   "id": "b6015d89",
   "metadata": {},
   "outputs": [],
   "source": [
    "# Should catch AssertionError\n",
    "\n",
    "# sum_distance('3', '1')"
   ]
  },
  {
   "cell_type": "markdown",
   "id": "81d565ab",
   "metadata": {},
   "source": [
    "#### Задание 2\n",
    "\n",
    "Напишите код на Python для решения следующей задачи.\n",
    "Реализуйте функцию trim_and_repeat(), которая принимает три параметра:\n",
    "строку;\n",
    "offset — число символов, на которое нужно обрезать строку слева;\n",
    "repetitions — сколько раз нужно повторить строку перед возвратом получившейся строки.\n",
    "Число символов для среза по умолчанию равно 0, а количество повторений — 1.\n",
    "Функция должна возвращать полученную строку.\n"
   ]
  },
  {
   "cell_type": "code",
   "execution_count": 3,
   "id": "757d6907",
   "metadata": {},
   "outputs": [],
   "source": [
    "def trim_and_repeat(origin: str, offset: int = 0, repetitions: int = 1) -> str:\n",
    "    \"\"\"\n",
    "    The function modifies a string by cutting and repeating the required number of times\n",
    "    :param origin: initial string to modify\n",
    "    :param offset: number of characters to trim the origin string\n",
    "    :param repetitions: how many times to repeat modified string\n",
    "    :return: modified string\n",
    "    \"\"\"\n",
    "    assert isinstance(origin, str) and origin != \"\", \"<{}> should be not empty string\".format(origin)\n",
    "    assert isinstance(offset, int) and offset >= 0, \"<{}> should be positive integer\".format(offset)\n",
    "    assert isinstance(repetitions, int) and repetitions >= 1, \"<{}> should be integer and >= 1\".format(repetitions)\n",
    "\n",
    "    if offset:\n",
    "        origin = origin[offset:]\n",
    "    \n",
    "    if repetitions > 1:\n",
    "        return \" \".join([origin for _ in range(repetitions)])\n",
    "    \n",
    "    return origin\n",
    "\n",
    "\n",
    "def test_trim_and_repeat():\n",
    "    assert trim_and_repeat('test') == 'test'\n",
    "    assert trim_and_repeat('testomonopolia', 5, 2) == 'monopolia monopolia'\n",
    "\n",
    "\n",
    "test_trim_and_repeat()"
   ]
  },
  {
   "cell_type": "code",
   "execution_count": 4,
   "id": "c104dde1",
   "metadata": {},
   "outputs": [],
   "source": [
    "# Should catch AssertionError\n",
    "\n",
    "# trim_and_repeat('test', 5, -2)\n",
    "# trim_and_repeat('')\n",
    "# trim_and_repeat('test', 0, 0)"
   ]
  },
  {
   "cell_type": "code",
   "execution_count": null,
   "id": "ff2f663e",
   "metadata": {},
   "outputs": [],
   "source": []
  }
 ],
 "metadata": {
  "kernelspec": {
   "display_name": "Python 3 (ipykernel)",
   "language": "python",
   "name": "python3"
  },
  "language_info": {
   "codemirror_mode": {
    "name": "ipython",
    "version": 3
   },
   "file_extension": ".py",
   "mimetype": "text/x-python",
   "name": "python",
   "nbconvert_exporter": "python",
   "pygments_lexer": "ipython3",
   "version": "3.10.12"
  }
 },
 "nbformat": 4,
 "nbformat_minor": 5
}
