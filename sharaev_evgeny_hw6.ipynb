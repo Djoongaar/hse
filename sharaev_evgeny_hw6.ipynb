{
 "cells": [
  {
   "cell_type": "markdown",
   "id": "63fb8916",
   "metadata": {},
   "source": [
    "### Домашнее задание 6\n",
    "#### Задание 1\n",
    "Необходимо реализовать класс Account, который отражает абстракцию\n",
    "базового поведения банковского аккаунта:\n",
    "* создание банковского аккаунта с параметрами: имя, стартовый баланс\n",
    "с которым зарегистрирован аккаунт, история операций"
   ]
  },
  {
   "cell_type": "code",
   "execution_count": 1,
   "id": "48ca1d25",
   "metadata": {},
   "outputs": [],
   "source": [
    "import random\n",
    "\n",
    "\n",
    "class Account:\n",
    "    def __init__(self, username, balance=0):\n",
    "        self.username = username\n",
    "        self.balance = balance\n",
    "        self.account_number = self.generate_account_number()\n",
    "        self.id = self.account_number\n",
    "        \n",
    "    def generate_account_number(self):\n",
    "        return random.randint(1_000_000_000, 9_999_999_999)"
   ]
  },
  {
   "cell_type": "code",
   "execution_count": 2,
   "id": "e25e2dc3",
   "metadata": {},
   "outputs": [
    {
     "data": {
      "text/plain": [
       "7056046157"
      ]
     },
     "execution_count": 2,
     "metadata": {},
     "output_type": "execute_result"
    }
   ],
   "source": [
    "new_account = Account('Evgeny')\n",
    "new_account.account_number"
   ]
  },
  {
   "cell_type": "code",
   "execution_count": 3,
   "id": "1858f1a1",
   "metadata": {},
   "outputs": [
    {
     "data": {
      "text/plain": [
       "0"
      ]
     },
     "execution_count": 3,
     "metadata": {},
     "output_type": "execute_result"
    }
   ],
   "source": [
    "new_account.balance"
   ]
  },
  {
   "cell_type": "code",
   "execution_count": 4,
   "id": "8682ec7e",
   "metadata": {},
   "outputs": [
    {
     "data": {
      "text/plain": [
       "'Evgeny'"
      ]
     },
     "execution_count": 4,
     "metadata": {},
     "output_type": "execute_result"
    }
   ],
   "source": [
    "new_account.username"
   ]
  },
  {
   "cell_type": "code",
   "execution_count": 5,
   "id": "445c921a",
   "metadata": {},
   "outputs": [
    {
     "data": {
      "text/plain": [
       "7056046157"
      ]
     },
     "execution_count": 5,
     "metadata": {},
     "output_type": "execute_result"
    }
   ],
   "source": [
    "new_account.account_number"
   ]
  },
  {
   "cell_type": "code",
   "execution_count": 6,
   "id": "9bb3b601",
   "metadata": {},
   "outputs": [
    {
     "data": {
      "text/plain": [
       "0"
      ]
     },
     "execution_count": 6,
     "metadata": {},
     "output_type": "execute_result"
    }
   ],
   "source": [
    "new_account.balance"
   ]
  }
 ],
 "metadata": {
  "kernelspec": {
   "display_name": "Python 3 (ipykernel)",
   "language": "python",
   "name": "python3"
  },
  "language_info": {
   "codemirror_mode": {
    "name": "ipython",
    "version": 3
   },
   "file_extension": ".py",
   "mimetype": "text/x-python",
   "name": "python",
   "nbconvert_exporter": "python",
   "pygments_lexer": "ipython3",
   "version": "3.10.12"
  }
 },
 "nbformat": 4,
 "nbformat_minor": 5
}
