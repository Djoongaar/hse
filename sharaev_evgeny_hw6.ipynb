{
 "cells": [
  {
   "cell_type": "markdown",
   "id": "63fb8916",
   "metadata": {},
   "source": [
    "### Домашнее задание 6\n",
    "#### Задание 1\n",
    "Необходимо реализовать класс Account, который отражает абстракцию\n",
    "базового поведения банковского аккаунта:\n",
    "* создание банковского аккаунта с параметрами: имя, стартовый баланс\n",
    "с которым зарегистрирован аккаунт, история операций\n",
    "* реализация двух методов, которые позволяют положить деньги на счет,\n",
    "или снять деньги с счета\n",
    "* продумать, как можно было бы хранить историю поступления или снятия\n",
    "денег, чтобы с ней можно было удобно работать*"
   ]
  },
  {
   "cell_type": "code",
   "execution_count": 1,
   "id": "48ca1d25",
   "metadata": {},
   "outputs": [],
   "source": [
    "import random\n",
    "\n",
    "class Transaction:\n",
    "    def __init__(self, sender, receiver, amount):\n",
    "        self.sender = sender\n",
    "        self.receiver = receiver\n",
    "        self.amount = amount\n",
    "        self.id = random.randint(1_000_000_000_000, 9_999_999_999_999)\n",
    "    \n",
    "    \n",
    "class Account:\n",
    "    def __init__(self, name, balance=0):\n",
    "        self.id = random.randint(1_000_000_000_000, 9_999_999_999_999)\n",
    "        self.first_name = name\n",
    "        self.balance = balance\n",
    "\n",
    "    def __receive(self, amount):\n",
    "        try:\n",
    "            assert amount > 0\n",
    "            self.balance += amount\n",
    "            return self.balance\n",
    "        except AssertionError:\n",
    "            print('Amount has to be positive integer')\n",
    "\n",
    "    def __send(self, receiver, amount):\n",
    "        assert 0 < amount < self.balance\n",
    "        self.balance -= amount\n",
    "        return self.balance\n",
    "        \n",
    "        \n",
    "    @staticmethod\n",
    "    def make_transaction(_from, _to, amount):\n",
    "        if _from.__send(_to, amount):\n",
    "            _to.__receive(_from, amount)"
   ]
  },
  {
   "cell_type": "code",
   "execution_count": 2,
   "id": "143ba0c5",
   "metadata": {},
   "outputs": [],
   "source": [
    "evgen = Account('Evgeny', 100)"
   ]
  },
  {
   "cell_type": "code",
   "execution_count": 3,
   "id": "20102f03",
   "metadata": {},
   "outputs": [],
   "source": [
    "alex = Account('Alex', 1100)"
   ]
  },
  {
   "cell_type": "code",
   "execution_count": 4,
   "id": "8279ffce",
   "metadata": {},
   "outputs": [
    {
     "ename": "TypeError",
     "evalue": "Account.__receive() takes 2 positional arguments but 3 were given",
     "output_type": "error",
     "traceback": [
      "\u001b[0;31m---------------------------------------------------------------------------\u001b[0m",
      "\u001b[0;31mTypeError\u001b[0m                                 Traceback (most recent call last)",
      "\u001b[0;32m/tmp/ipykernel_5914/2948086296.py\u001b[0m in \u001b[0;36m<module>\u001b[0;34m\u001b[0m\n\u001b[0;32m----> 1\u001b[0;31m \u001b[0mAccount\u001b[0m\u001b[0;34m.\u001b[0m\u001b[0mmake_transaction\u001b[0m\u001b[0;34m(\u001b[0m\u001b[0malex\u001b[0m\u001b[0;34m,\u001b[0m \u001b[0mevgen\u001b[0m\u001b[0;34m,\u001b[0m \u001b[0;36m100\u001b[0m\u001b[0;34m)\u001b[0m\u001b[0;34m\u001b[0m\u001b[0;34m\u001b[0m\u001b[0m\n\u001b[0m",
      "\u001b[0;32m/tmp/ipykernel_5914/1122992400.py\u001b[0m in \u001b[0;36mmake_transaction\u001b[0;34m(_from, _to, amount)\u001b[0m\n\u001b[1;32m     32\u001b[0m     \u001b[0;32mdef\u001b[0m \u001b[0mmake_transaction\u001b[0m\u001b[0;34m(\u001b[0m\u001b[0m_from\u001b[0m\u001b[0;34m,\u001b[0m \u001b[0m_to\u001b[0m\u001b[0;34m,\u001b[0m \u001b[0mamount\u001b[0m\u001b[0;34m)\u001b[0m\u001b[0;34m:\u001b[0m\u001b[0;34m\u001b[0m\u001b[0;34m\u001b[0m\u001b[0m\n\u001b[1;32m     33\u001b[0m         \u001b[0;32mif\u001b[0m \u001b[0m_from\u001b[0m\u001b[0;34m.\u001b[0m\u001b[0m__send\u001b[0m\u001b[0;34m(\u001b[0m\u001b[0m_to\u001b[0m\u001b[0;34m,\u001b[0m \u001b[0mamount\u001b[0m\u001b[0;34m)\u001b[0m\u001b[0;34m:\u001b[0m\u001b[0;34m\u001b[0m\u001b[0;34m\u001b[0m\u001b[0m\n\u001b[0;32m---> 34\u001b[0;31m             \u001b[0m_to\u001b[0m\u001b[0;34m.\u001b[0m\u001b[0m__receive\u001b[0m\u001b[0;34m(\u001b[0m\u001b[0m_from\u001b[0m\u001b[0;34m,\u001b[0m \u001b[0mamount\u001b[0m\u001b[0;34m)\u001b[0m\u001b[0;34m\u001b[0m\u001b[0;34m\u001b[0m\u001b[0m\n\u001b[0m",
      "\u001b[0;31mTypeError\u001b[0m: Account.__receive() takes 2 positional arguments but 3 were given"
     ]
    }
   ],
   "source": [
    "Account.make_transaction(alex, evgen, 100)"
   ]
  }
 ],
 "metadata": {
  "kernelspec": {
   "display_name": "Python 3 (ipykernel)",
   "language": "python",
   "name": "python3"
  },
  "language_info": {
   "codemirror_mode": {
    "name": "ipython",
    "version": 3
   },
   "file_extension": ".py",
   "mimetype": "text/x-python",
   "name": "python",
   "nbconvert_exporter": "python",
   "pygments_lexer": "ipython3",
   "version": "3.10.12"
  }
 },
 "nbformat": 4,
 "nbformat_minor": 5
}
