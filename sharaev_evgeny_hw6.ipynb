{
 "cells": [
  {
   "cell_type": "markdown",
   "id": "63fb8916",
   "metadata": {},
   "source": [
    "### Домашнее задание 6\n",
    "#### Задание 1\n",
    "Необходимо реализовать класс Account, который отражает абстракцию\n",
    "базового поведения банковского аккаунта:\n",
    "* создание банковского аккаунта с параметрами: имя, стартовый баланс\n",
    "с которым зарегистрирован аккаунт, история операций\n",
    "* реализация двух методов, которые позволяют положить деньги на счет,\n",
    "или снять деньги с счета\n",
    "* продумать, как можно было бы хранить историю поступления или снятия\n",
    "денег, чтобы с ней можно было удобно работать*"
   ]
  },
  {
   "cell_type": "code",
   "execution_count": 1,
   "id": "48ca1d25",
   "metadata": {},
   "outputs": [],
   "source": [
    "import random\n",
    "\n",
    "\n",
    "class Transaction:\n",
    "    def __init__(self, sender, receiver, amount):\n",
    "        self.sender = sender\n",
    "        self.receiver = receiver\n",
    "        self.amount = amount\n",
    "        self.id = random.randint(1_000_000_000_000, 9_999_999_999_999)\n",
    "    \n",
    "    \n",
    "class Account:\n",
    "    def __init__(self, username, balance=0):\n",
    "        self.id = random.randint(1_000_000_000_000, 9_999_999_999_999)\n",
    "        self.username = username\n",
    "        self.balance = balance\n",
    "\n",
    "    def __receive(self, amount):\n",
    "        self.balance += amount\n",
    "\n",
    "    def send(self, receiver, amount):\n",
    "        assert 0 < amount <= self.balance\n",
    "        self.balance -= amount\n",
    "        receiver.__receive(amount)\n",
    "        \n",
    "        return Transaction(self, receiver, amount)"
   ]
  },
  {
   "cell_type": "code",
   "execution_count": 2,
   "id": "143ba0c5",
   "metadata": {},
   "outputs": [],
   "source": [
    "# Creating accounts\n",
    "\n",
    "evgen = Account('Evgeny', 1000)\n",
    "alex = Account('Alex', 1000)"
   ]
  },
  {
   "cell_type": "code",
   "execution_count": 3,
   "id": "63e9cf87",
   "metadata": {},
   "outputs": [
    {
     "name": "stdout",
     "output_type": "stream",
     "text": [
      "1000\n",
      "1000\n"
     ]
    }
   ],
   "source": [
    "# Check initial balance\n",
    "\n",
    "print(evgen.balance)\n",
    "print(alex.balance)"
   ]
  },
  {
   "cell_type": "code",
   "execution_count": 4,
   "id": "a9766c8a",
   "metadata": {},
   "outputs": [],
   "source": [
    "# Create transaction and save in variable\n",
    "\n",
    "transaction = evgen.send(alex, 100)"
   ]
  },
  {
   "cell_type": "code",
   "execution_count": 5,
   "id": "09c162e9",
   "metadata": {},
   "outputs": [
    {
     "name": "stdout",
     "output_type": "stream",
     "text": [
      "900\n",
      "1100\n"
     ]
    }
   ],
   "source": [
    "# Check balance after transaction\n",
    "\n",
    "print(evgen.balance)\n",
    "print(alex.balance)"
   ]
  },
  {
   "cell_type": "code",
   "execution_count": 6,
   "id": "21e0511d",
   "metadata": {},
   "outputs": [
    {
     "name": "stdout",
     "output_type": "stream",
     "text": [
      "<__main__.Transaction object at 0x7ff34937e2c0>\n",
      "Evgeny\n",
      "Alex\n",
      "4185174700781\n"
     ]
    }
   ],
   "source": [
    "# Transaction details\n",
    "\n",
    "print(transaction)\n",
    "print(transaction.sender.username)\n",
    "print(transaction.receiver.username)\n",
    "print(transaction.receiver.id)"
   ]
  },
  {
   "cell_type": "code",
   "execution_count": 7,
   "id": "ccacd91c",
   "metadata": {},
   "outputs": [],
   "source": [
    "# Sending money back\n",
    "\n",
    "transaction2 = alex.send(evgen, 100)"
   ]
  },
  {
   "cell_type": "code",
   "execution_count": 8,
   "id": "a2a223d3",
   "metadata": {},
   "outputs": [
    {
     "name": "stdout",
     "output_type": "stream",
     "text": [
      "1000\n",
      "1000\n"
     ]
    }
   ],
   "source": [
    "# Check balance after transaction\n",
    "\n",
    "print(evgen.balance)\n",
    "print(alex.balance)"
   ]
  },
  {
   "cell_type": "code",
   "execution_count": 9,
   "id": "963161c1",
   "metadata": {},
   "outputs": [
    {
     "name": "stdout",
     "output_type": "stream",
     "text": [
      "<__main__.Transaction object at 0x7ff34937eda0>\n",
      "Alex\n",
      "Evgeny\n",
      "6170372662025\n"
     ]
    }
   ],
   "source": [
    "# Transaction 2 details\n",
    "\n",
    "print(transaction2)\n",
    "print(transaction2.sender.username)\n",
    "print(transaction2.receiver.username)\n",
    "print(transaction2.receiver.id)"
   ]
  }
 ],
 "metadata": {
  "kernelspec": {
   "display_name": "Python 3 (ipykernel)",
   "language": "python",
   "name": "python3"
  },
  "language_info": {
   "codemirror_mode": {
    "name": "ipython",
    "version": 3
   },
   "file_extension": ".py",
   "mimetype": "text/x-python",
   "name": "python",
   "nbconvert_exporter": "python",
   "pygments_lexer": "ipython3",
   "version": "3.10.12"
  }
 },
 "nbformat": 4,
 "nbformat_minor": 5
}
