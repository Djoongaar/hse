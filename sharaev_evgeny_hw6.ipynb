{
 "cells": [
  {
   "cell_type": "markdown",
   "id": "63fb8916",
   "metadata": {},
   "source": [
    "### Домашнее задание 6\n",
    "#### Задание 1\n",
    "Необходимо реализовать класс Account, который отражает абстракцию\n",
    "базового поведения банковского аккаунта:\n",
    "* создание банковского аккаунта с параметрами: имя, стартовый баланс\n",
    "с которым зарегистрирован аккаунт, история операций\n",
    "* реализация двух методов, которые позволяют положить деньги на счет,\n",
    "или снять деньги с счета\n",
    "* продумать, как можно было бы хранить историю поступления или снятия\n",
    "денег, чтобы с ней можно было удобно работать*"
   ]
  },
  {
   "cell_type": "code",
   "execution_count": 1,
   "id": "48ca1d25",
   "metadata": {},
   "outputs": [],
   "source": [
    "# Назначать ID объекта функцией random конечно же не в серьёз, но за неимением тут подключенной базы данных \n",
    "# и объекта Sequence пришлось имитировать его работу\n",
    "\n",
    "\n",
    "import random\n",
    "import math\n",
    "\n",
    "\n",
    "class Transaction:\n",
    "    def __init__(self, sender, receiver, amount):\n",
    "        self.id = random.randint(1_000_000_000_000, 9_999_999_999_999)\n",
    "        self.sender = sender\n",
    "        self.receiver = receiver\n",
    "        self.amount = amount\n",
    "\n",
    "\n",
    "class Account:\n",
    "    def __init__(self, username, balance=0):\n",
    "        self.id = random.randint(1_000_000_000_000, 9_999_999_999_999)\n",
    "        self.username = username\n",
    "        self.balance = balance\n",
    "        self.transactions = []\n",
    "\n",
    "    def __write_transaction(self, transaction):\n",
    "        self.transactions.append(transaction)\n",
    "\n",
    "    def __receive(self, amount):\n",
    "        self.balance += amount\n",
    "        return amount\n",
    "\n",
    "    def __send(self, amount):\n",
    "        self.balance -= amount\n",
    "        return amount\n",
    "\n",
    "    def send(self, receiver, amount):\n",
    "        amount = math.floor(amount * 100)/100.0\n",
    "        \n",
    "        assert isinstance(receiver, Account), \"Receiver should be instance of Account\"\n",
    "        assert self.id != receiver.id, \"You trying to send money to yourself\"\n",
    "        assert amount >= 0.01, \"Amount should be greater then 0.01\"\n",
    "        assert amount <= self.balance, \"Amount cannot be greater then senders balance\"\n",
    "        \n",
    "        transaction = Transaction(self, receiver, amount)\n",
    "\n",
    "        # Send & receive money\n",
    "        sent = self.__send(amount)\n",
    "        received = receiver.__receive(amount)\n",
    "\n",
    "        if sent and received:\n",
    "            self.__write_transaction(transaction)\n",
    "            receiver.__write_transaction(transaction)\n",
    "\n",
    "        return transaction"
   ]
  },
  {
   "cell_type": "code",
   "execution_count": 2,
   "id": "143ba0c5",
   "metadata": {},
   "outputs": [],
   "source": [
    "# Creating accounts\n",
    "\n",
    "evgen = Account('Evgeny', 1000)\n",
    "alex = Account('Alex', 1000)"
   ]
  },
  {
   "cell_type": "code",
   "execution_count": 3,
   "id": "63e9cf87",
   "metadata": {},
   "outputs": [
    {
     "name": "stdout",
     "output_type": "stream",
     "text": [
      "1000\n",
      "1000\n"
     ]
    }
   ],
   "source": [
    "# Check initial balance\n",
    "\n",
    "print(evgen.balance)\n",
    "print(alex.balance)"
   ]
  },
  {
   "cell_type": "code",
   "execution_count": 4,
   "id": "a9766c8a",
   "metadata": {},
   "outputs": [],
   "source": [
    "# Create transaction and save in variable\n",
    "\n",
    "transaction = evgen.send(alex, 100.555)"
   ]
  },
  {
   "cell_type": "code",
   "execution_count": 5,
   "id": "09c162e9",
   "metadata": {},
   "outputs": [
    {
     "name": "stdout",
     "output_type": "stream",
     "text": [
      "899.45\n",
      "1100.55\n"
     ]
    }
   ],
   "source": [
    "# Check balance after transaction\n",
    "\n",
    "print(evgen.balance)\n",
    "print(alex.balance)"
   ]
  },
  {
   "cell_type": "code",
   "execution_count": 6,
   "id": "21e0511d",
   "metadata": {},
   "outputs": [
    {
     "name": "stdout",
     "output_type": "stream",
     "text": [
      "<__main__.Transaction object at 0x7f7660371690>\n",
      "Evgeny\n",
      "Alex\n",
      "8136947713012\n"
     ]
    }
   ],
   "source": [
    "# Transaction details\n",
    "\n",
    "print(transaction)\n",
    "print(transaction.sender.username)\n",
    "print(transaction.receiver.username)\n",
    "print(transaction.receiver.id)"
   ]
  },
  {
   "cell_type": "code",
   "execution_count": 7,
   "id": "ccacd91c",
   "metadata": {},
   "outputs": [],
   "source": [
    "# Sending money back\n",
    "\n",
    "transaction2 = alex.send(evgen, 100.555)"
   ]
  },
  {
   "cell_type": "code",
   "execution_count": 8,
   "id": "a2a223d3",
   "metadata": {},
   "outputs": [
    {
     "name": "stdout",
     "output_type": "stream",
     "text": [
      "1000.0\n",
      "1000.0\n"
     ]
    }
   ],
   "source": [
    "# Check balance after transaction\n",
    "\n",
    "print(evgen.balance)\n",
    "print(alex.balance)"
   ]
  },
  {
   "cell_type": "code",
   "execution_count": 9,
   "id": "963161c1",
   "metadata": {},
   "outputs": [
    {
     "name": "stdout",
     "output_type": "stream",
     "text": [
      "<__main__.Transaction object at 0x7f7660370b20>\n",
      "Alex\n",
      "Evgeny\n",
      "2663812212615\n"
     ]
    }
   ],
   "source": [
    "# Transaction 2 details\n",
    "\n",
    "print(transaction2)\n",
    "print(transaction2.sender.username)\n",
    "print(transaction2.receiver.username)\n",
    "print(transaction2.receiver.id)"
   ]
  },
  {
   "cell_type": "code",
   "execution_count": 10,
   "id": "bd83caa4",
   "metadata": {},
   "outputs": [
    {
     "data": {
      "text/plain": [
       "[<__main__.Transaction at 0x7f7660371690>,\n",
       " <__main__.Transaction at 0x7f7660370b20>]"
      ]
     },
     "execution_count": 10,
     "metadata": {},
     "output_type": "execute_result"
    }
   ],
   "source": [
    "# Links on same transactions can be fined in Accout attribute 'transactions'\n",
    "\n",
    "evgen.transactions"
   ]
  },
  {
   "cell_type": "code",
   "execution_count": 11,
   "id": "08d3275e",
   "metadata": {},
   "outputs": [
    {
     "data": {
      "text/plain": [
       "[<__main__.Transaction at 0x7f7660371690>,\n",
       " <__main__.Transaction at 0x7f7660370b20>]"
      ]
     },
     "execution_count": 11,
     "metadata": {},
     "output_type": "execute_result"
    }
   ],
   "source": [
    "alex.transactions"
   ]
  },
  {
   "cell_type": "code",
   "execution_count": 12,
   "id": "15853e88",
   "metadata": {},
   "outputs": [],
   "source": [
    "# Send negative amount\n",
    "\n",
    "# transaction3 = evgen.send(alex, -100.555)"
   ]
  },
  {
   "cell_type": "code",
   "execution_count": 13,
   "id": "9f075e09",
   "metadata": {},
   "outputs": [],
   "source": [
    "# Send too big amount\n",
    "\n",
    "# transaction4 = evgen.send(alex, 1_000_000)"
   ]
  },
  {
   "cell_type": "code",
   "execution_count": 14,
   "id": "415e91d6",
   "metadata": {},
   "outputs": [],
   "source": [
    "# Send too small amount\n",
    "\n",
    "# transaction5 = evgen.send(alex, 0.005)"
   ]
  },
  {
   "cell_type": "code",
   "execution_count": 15,
   "id": "adfed8c6",
   "metadata": {},
   "outputs": [],
   "source": [
    "# raise TypeError\n",
    "\n",
    "# transaction6 = evgen.send(alex, 'str')"
   ]
  },
  {
   "cell_type": "code",
   "execution_count": 16,
   "id": "611ec204",
   "metadata": {},
   "outputs": [],
   "source": [
    "# Wrong type of receiver\n",
    "\n",
    "# transaction7 = evgen.send('alex', 0.01)"
   ]
  }
 ],
 "metadata": {
  "kernelspec": {
   "display_name": "Python 3 (ipykernel)",
   "language": "python",
   "name": "python3"
  },
  "language_info": {
   "codemirror_mode": {
    "name": "ipython",
    "version": 3
   },
   "file_extension": ".py",
   "mimetype": "text/x-python",
   "name": "python",
   "nbconvert_exporter": "python",
   "pygments_lexer": "ipython3",
   "version": "3.10.12"
  }
 },
 "nbformat": 4,
 "nbformat_minor": 5
}
