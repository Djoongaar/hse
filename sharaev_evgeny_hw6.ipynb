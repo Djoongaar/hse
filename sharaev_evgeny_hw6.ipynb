{
 "cells": [
  {
   "cell_type": "markdown",
   "id": "63fb8916",
   "metadata": {},
   "source": [
    "### Домашнее задание 6\n",
    "#### Задание 1\n",
    "Необходимо реализовать класс Account, который отражает абстракцию\n",
    "базового поведения банковского аккаунта:\n",
    "* создание банковского аккаунта с параметрами: имя, стартовый баланс\n",
    "с которым зарегистрирован аккаунт, история операций\n",
    "* реализация двух методов, которые позволяют положить деньги на счет,\n",
    "или снять деньги с счета\n",
    "* продумать, как можно было бы хранить историю поступления или снятия\n",
    "денег, чтобы с ней можно было удобно работать*"
   ]
  },
  {
   "cell_type": "code",
   "execution_count": 1,
   "id": "48ca1d25",
   "metadata": {},
   "outputs": [],
   "source": [
    "import random\n",
    "\n",
    "\n",
    "class Transaction:\n",
    "    def __init__(self, sender, receiver, amount):\n",
    "        self.sender = sender\n",
    "        self.receiver = receiver\n",
    "        self.amount = amount\n",
    "        self.id = random.randint(1_000_000_000_000, 9_999_999_999_999)\n",
    "    \n",
    "    \n",
    "class Account:\n",
    "    def __init__(self, username, balance=0):\n",
    "        self.id = random.randint(1_000_000_000_000, 9_999_999_999_999)\n",
    "        self.username = username\n",
    "        self.balance = balance\n",
    "\n",
    "    def __receive(self, amount):\n",
    "        self.balance += amount\n",
    "\n",
    "    def send(self, receiver, amount):\n",
    "        assert 0 < amount <= self.balance\n",
    "        self.balance -= amount\n",
    "        receiver.__receive(amount)\n",
    "        \n",
    "        return Transaction(self, receiver, amount)"
   ]
  },
  {
   "cell_type": "code",
   "execution_count": 2,
   "id": "143ba0c5",
   "metadata": {},
   "outputs": [],
   "source": [
    "evgen = Account('Evgeny', 1000)"
   ]
  },
  {
   "cell_type": "code",
   "execution_count": 3,
   "id": "20102f03",
   "metadata": {},
   "outputs": [],
   "source": [
    "alex = Account('Alex', 1100)"
   ]
  },
  {
   "cell_type": "code",
   "execution_count": 4,
   "id": "63e9cf87",
   "metadata": {},
   "outputs": [
    {
     "data": {
      "text/plain": [
       "1000"
      ]
     },
     "execution_count": 4,
     "metadata": {},
     "output_type": "execute_result"
    }
   ],
   "source": [
    "evgen.balance"
   ]
  },
  {
   "cell_type": "code",
   "execution_count": 5,
   "id": "33a0a6cd",
   "metadata": {},
   "outputs": [
    {
     "data": {
      "text/plain": [
       "1100"
      ]
     },
     "execution_count": 5,
     "metadata": {},
     "output_type": "execute_result"
    }
   ],
   "source": [
    "alex.balance"
   ]
  },
  {
   "cell_type": "code",
   "execution_count": 6,
   "id": "a9766c8a",
   "metadata": {},
   "outputs": [],
   "source": [
    "transaction = evgen.send(alex, 100)"
   ]
  },
  {
   "cell_type": "code",
   "execution_count": 7,
   "id": "8551ef02",
   "metadata": {},
   "outputs": [
    {
     "data": {
      "text/plain": [
       "<__main__.Account at 0x7f2bfa537bb0>"
      ]
     },
     "execution_count": 7,
     "metadata": {},
     "output_type": "execute_result"
    }
   ],
   "source": [
    "transaction.sender"
   ]
  },
  {
   "cell_type": "code",
   "execution_count": 8,
   "id": "acd257b0",
   "metadata": {},
   "outputs": [
    {
     "data": {
      "text/plain": [
       "<__main__.Account at 0x7f2bfa5365c0>"
      ]
     },
     "execution_count": 8,
     "metadata": {},
     "output_type": "execute_result"
    }
   ],
   "source": [
    "transaction.receiver"
   ]
  },
  {
   "cell_type": "code",
   "execution_count": 9,
   "id": "21e0511d",
   "metadata": {},
   "outputs": [
    {
     "data": {
      "text/plain": [
       "'Evgeny'"
      ]
     },
     "execution_count": 9,
     "metadata": {},
     "output_type": "execute_result"
    }
   ],
   "source": [
    "transaction.sender.username"
   ]
  },
  {
   "cell_type": "code",
   "execution_count": 10,
   "id": "830a661f",
   "metadata": {},
   "outputs": [
    {
     "data": {
      "text/plain": [
       "'Alex'"
      ]
     },
     "execution_count": 10,
     "metadata": {},
     "output_type": "execute_result"
    }
   ],
   "source": [
    "transaction.receiver.username"
   ]
  },
  {
   "cell_type": "code",
   "execution_count": 11,
   "id": "a181ccf8",
   "metadata": {},
   "outputs": [
    {
     "data": {
      "text/plain": [
       "7472409841418"
      ]
     },
     "execution_count": 11,
     "metadata": {},
     "output_type": "execute_result"
    }
   ],
   "source": [
    "transaction.receiver.id"
   ]
  },
  {
   "cell_type": "code",
   "execution_count": null,
   "id": "e5e1796a",
   "metadata": {},
   "outputs": [],
   "source": []
  }
 ],
 "metadata": {
  "kernelspec": {
   "display_name": "Python 3 (ipykernel)",
   "language": "python",
   "name": "python3"
  },
  "language_info": {
   "codemirror_mode": {
    "name": "ipython",
    "version": 3
   },
   "file_extension": ".py",
   "mimetype": "text/x-python",
   "name": "python",
   "nbconvert_exporter": "python",
   "pygments_lexer": "ipython3",
   "version": "3.10.12"
  }
 },
 "nbformat": 4,
 "nbformat_minor": 5
}
